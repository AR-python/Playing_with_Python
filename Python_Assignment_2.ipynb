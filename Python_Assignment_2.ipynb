{
 "cells": [
  {
   "cell_type": "markdown",
   "id": "f091f9d6",
   "metadata": {},
   "source": [
    "#### 1. Create the below pattern using nested for loop in Python.\n"
   ]
  },
  {
   "cell_type": "code",
   "execution_count": 22,
   "id": "2306a8af",
   "metadata": {},
   "outputs": [
    {
     "name": "stdout",
     "output_type": "stream",
     "text": [
      "* \n",
      "* * \n",
      "* * * \n",
      "* * * * \n",
      "* * * * * \n",
      "* * * * \n",
      "* * * \n",
      "* * \n",
      "* \n"
     ]
    }
   ],
   "source": [
    "def test0(n):\n",
    "    k = n-1\n",
    "    for i in range(n):       # This for statement helping us to execute next for loop again\n",
    "        for j in range(i+1):\n",
    "            print(\"*\",end=\" \")\n",
    "            \n",
    "        print(\"\")\n",
    "    for i in range(k):       # This for statement helping us to execute next for loop again\n",
    "        for j in range(k):\n",
    "            print(\"*\",end=\" \")\n",
    "        k = k-1\n",
    "        print(\"\") \n",
    "    \n",
    "test0(5)        "
   ]
  },
  {
   "cell_type": "markdown",
   "id": "6c6f8155",
   "metadata": {},
   "source": [
    "####  2. Write a Python program to reverse a word after accepting the input from the user.\n",
    "- Input word: ineuron\n",
    "- Output: norueni"
   ]
  },
  {
   "cell_type": "code",
   "execution_count": 32,
   "id": "dd4a1a9b",
   "metadata": {},
   "outputs": [
    {
     "name": "stdout",
     "output_type": "stream",
     "text": [
      "Your input word is ineuron\n"
     ]
    },
    {
     "data": {
      "text/plain": [
       "'norueni'"
      ]
     },
     "execution_count": 32,
     "metadata": {},
     "output_type": "execute_result"
    }
   ],
   "source": [
    "def name():\n",
    "    n = input(\"Your input word is \")\n",
    "    return  n[::-1]\n",
    "name()"
   ]
  }
 ],
 "metadata": {
  "kernelspec": {
   "display_name": "Python 3",
   "language": "python",
   "name": "python3"
  },
  "language_info": {
   "codemirror_mode": {
    "name": "ipython",
    "version": 3
   },
   "file_extension": ".py",
   "mimetype": "text/x-python",
   "name": "python",
   "nbconvert_exporter": "python",
   "pygments_lexer": "ipython3",
   "version": "3.8.5"
  }
 },
 "nbformat": 4,
 "nbformat_minor": 5
}
